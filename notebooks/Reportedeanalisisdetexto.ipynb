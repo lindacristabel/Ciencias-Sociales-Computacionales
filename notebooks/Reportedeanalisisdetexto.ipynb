{
 "cells": [
  {
   "cell_type": "code",
   "execution_count": null,
   "metadata": {},
   "outputs": [],
   "source": [
    "TÍTULO\n",
    "Nombre y Apellido, Carné\n",
    "\n",
    "INTRODUCCIÓN\n",
    "Breve descripción del proyecto y el propósito de este. Un párrafo que describa qué se\n",
    "está haciendo, con qué herramientas y que resultados se esperan. (150-200 palabras)\n",
    "OBJETIVO\n",
    "En una declaración específica plantear con verbos de acciones que indican qué\n",
    "variables serán medidas o observadas.\n",
    "METODOLOGÍA\n",
    "Describir el conjunto de herramientas que se han utilizado, cuál fue la lógica de\n",
    "utilizarlas así. De 3 a 5 párrafos. Deben explicar cómo han utilizado Python, y sus\n",
    "librerías (SpaCy, Scikit-learn, Wikipeida-API).\n",
    "RESULTADOS\n",
    "Describir los resultados obtenidos, incluyendo los gráficos generados. De 2 a 3\n",
    "párrafos.\n",
    "SIGUIENTES PASOSPosibles caminos que se abren después de realizar este análisis.\n"
   ]
  },
  {
   "cell_type": "markdown",
   "metadata": {},
   "source": []
  }
 ],
 "metadata": {
  "language_info": {
   "name": "python"
  }
 },
 "nbformat": 4,
 "nbformat_minor": 2
}
