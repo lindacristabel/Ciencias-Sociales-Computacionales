{
 "cells": [
  {
   "cell_type": "code",
   "execution_count": null,
   "id": "5239f13f-171b-4048-884c-33e1a40a7704",
   "metadata": {},
   "outputs": [],
   "source": []
  },
  {
   "cell_type": "markdown",
   "metadata": {},
   "source": [
    "# **CREACIÓN DE UNA BASE DE DATOS CON UNA API**"
   ]
  },
  {
   "cell_type": "markdown",
   "metadata": {},
   "source": [
    "## **¿Qué es una API?**\n",
    "\n",
    "Las interfaces de programación de aplicaciones (API por sus siglas en inglés) ​son una pieza de código que permite a diferentes aplicaciones comunicarse entre sí y compartir información y funcionalidades. Una API es un intermediario entre dos sistemas, que permite que una aplicación se comunique con otra y pida datos o acciones específicas.\n",
    "\n",
    "Una API representa la capacidad de comunicación entre componentes de software. Se trata del conjunto de llamadas a ciertas bibliotecas que ofrecen acceso a ciertos servicios desde los procesos y representa un método para conseguir abstracción en la programación, generalmente (aunque no necesariamente) entre los niveles o capas inferiores y los superiores del software. Uno de los principales propósitos de una API consiste en proporcionar un conjunto de funciones de uso general, por ejemplo, para dibujar ventanas o iconos en la pantalla. De esta forma, los programadores se benefician de las ventajas de las API haciendo uso de su funcionalidad, evitándose el trabajo de programar todo desde el principio. Las API asimismo son abstractas: el software que proporciona una cierta API generalmente es llamado la implementación de esa API.\n",
    "\n",
    "## **Ejemplos**\n",
    "\n",
    "[Reddit|PRAW](https://praw.readthedocs.io/en/stable/)\n",
    "[Spotify|Spotipy](https://spotipy.readthedocs.io/en/2.22.1/#examples)\n",
    "[Mastodon|Mastodon.py](https://mastodonpy.readthedocs.io/en/stable/)\n",
    "\n",
    "## **Wikipedia API**\n",
    "\n",
    "Wikipedia es una enciclopedia libre, políglota y editada de manera colaborativa. Es administrada por la Fundación Wikimedia.\n",
    "\n",
    "[Wikipedia-API](https://github.com/martin-majlis/Wikipedia-API) es un contenedor de Python fácil de usar para la API de Wikipedia. Admite la extracción de textos, secciones, enlaces y categorías de Wikipedia.\n",
    "El objetivo de Wikipedia-API es proporcionar una API simple y fácil de usar para recuperar información de Wikipedia.\n",
    "\n",
    "## **Objetivo**\n",
    "\n",
    "La sesión de hoy será comunicarse con Wikipedia y crear una base de datos en base de una consulta de **\"Categoría\"** utilizando Wikipedia-API.\n",
    "\n"
   ]
  },
  {
   "cell_type": "markdown",
   "metadata": {},
   "source": [
    "# **IMPORTANDO TODAS LAS LIBRERÍAS**\n",
    "\n",
    "Para esta sesión utilizaremos librerías que hemos usando en el pasado, como Pandas y Wikipedia-API. Adempas utilizaremos una nueva herramienta que es parte de los modulos incluídos de Python."
   ]
  },
  {
   "cell_type": "code",
   "execution_count": 1,
   "metadata": {},
   "outputs": [],
   "source": [
    "import wikipediaapi\n",
    "import pandas as pd\n",
    "pd.set_option(\"display.notebook_repr_html\", False)\n",
    "from itertools import islice"
   ]
  }
 ],
 "metadata": {
  "kernelspec": {
   "display_name": "Python 3 (ipykernel)",
   "language": "python",
   "name": "python3"
  },
  "language_info": {
   "codemirror_mode": {
    "name": "ipython",
    "version": 3
   },
   "file_extension": ".py",
   "mimetype": "text/x-python",
   "name": "python",
   "nbconvert_exporter": "python",
   "pygments_lexer": "ipython3",
   "version": "3.10.0"
  }
 },
 "nbformat": 4,
 "nbformat_minor": 5
}
