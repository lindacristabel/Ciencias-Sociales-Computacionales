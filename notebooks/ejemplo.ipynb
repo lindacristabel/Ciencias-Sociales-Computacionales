{
 "cells": [
  {
   "cell_type": "markdown",
   "metadata": {},
   "source": [
    "# **ANÁLISIS ITERATIVO DE LAS CATEGORÍAS IDEOLÓGICAS EN WIKIPEDIA**\n",
    "#### Ramón Zamora, carné 10233"
   ]
  },
  {
   "cell_type": "markdown",
   "metadata": {},
   "source": [
    "## INTRODUCCIÓN\n",
    "El presente proyecto utiliza herramientas de análisis de texto computacional para llevar a cabo un exploración de los datos de los artículos vinculados a las categorías de distintas ideologías que se pueden encontrar en la enciclopedia digial Wikipedia. Para llevar a cabo este ejercicio se utilizarán las librerías de ..."
   ]
  },
  {
   "cell_type": "code",
   "execution_count": 2,
   "metadata": {},
   "outputs": [],
   "source": [
    "import wikipediaapi\n",
    "import pickle\n",
    "from pprint import pprint\n",
    "import pandas as pd\n",
    "pd.set_option(\"display.notebook_repr_html\", False)\n",
    "import numpy as np\n",
    "import seaborn as sns\n",
    "import matplotlib.pyplot as plt\n",
    "from dcss.text import bigram_process, preprocess, bow_to_df\n",
    "from dcss.plotting import format_axes_commas, custom_seaborn\n",
    "from dcss.utils import sparse_groupby\n",
    "custom_seaborn()\n",
    "import spacy\n",
    "nlp = spacy.load('en_core_web_sm')\n",
    "from sklearn.feature_extraction.text import CountVectorizer, TfidfVectorizer\n",
    "from sklearn.decomposition import TruncatedSVD\n",
    "from sklearn.preprocessing import Normalizer\n",
    "import scipy\n",
    "from itertools import islice"
   ]
  },
  {
   "cell_type": "code",
   "execution_count": 3,
   "metadata": {},
   "outputs": [],
   "source": [
    "wiki_wiki = wikipediaapi.Wikipedia('Ciencias Sociales Computacionales (can06728@uvg.edu.gt)', 'en')"
   ]
  },
  {
   "cell_type": "code",
   "execution_count": 4,
   "metadata": {},
   "outputs": [
    {
     "name": "stdout",
     "output_type": "stream",
     "text": [
      "Authoritarianism exist: True\n",
      "Environmentalism: True\n",
      "Liberalism exist: False\n"
     ]
    }
   ],
   "source": [
    "#1. Busqueda de Authoritarianism\n",
    "cat_Authoritarianism = wiki_wiki.page(\"Category:Authoritarianism\")\n",
    "print(\"Authoritarianism exist: %s\" % cat_Authoritarianism.exists())\n",
    "#2. Busqueda de Environmentalism \n",
    "cat_Environmentalism = wiki_wiki.page(\"Category:Environmentalism\")\n",
    "print(\"Environmentalism: %s\" % cat_Environmentalism.exists())\n",
    "#3. Busqueda de Liberalism\n",
    "cat_Liberalism = wiki_wiki.page(\"CategoryLiberalism\")\n",
    "print(\"Liberalism exist: %s\" % cat_Liberalism.exists())"
   ]
  },
  {
   "cell_type": "code",
   "execution_count": 6,
   "metadata": {},
   "outputs": [
    {
     "ename": "KeyError",
     "evalue": "'query'",
     "output_type": "error",
     "traceback": [
      "\u001b[0;31m---------------------------------------------------------------------------\u001b[0m",
      "\u001b[0;31mKeyError\u001b[0m                                  Traceback (most recent call last)",
      "Cell \u001b[0;32mIn[6], line 34\u001b[0m\n\u001b[1;32m     31\u001b[0m     df \u001b[38;5;241m=\u001b[39m pd\u001b[38;5;241m.\u001b[39mDataFrame(data)\n\u001b[1;32m     33\u001b[0m data \u001b[38;5;241m=\u001b[39m []\n\u001b[0;32m---> 34\u001b[0m pages_names \u001b[38;5;241m=\u001b[39m \u001b[43mcat_Liberalism\u001b[49m\u001b[38;5;241;43m.\u001b[39;49m\u001b[43mcategorymembers\u001b[49m\n\u001b[1;32m     35\u001b[0m \u001b[38;5;28;01mfor\u001b[39;00m key, value \u001b[38;5;129;01min\u001b[39;00m islice (pages_names\u001b[38;5;241m.\u001b[39mitems(), \u001b[38;5;241m1\u001b[39m, \u001b[38;5;28;01mNone\u001b[39;00m):\n\u001b[1;32m     36\u001b[0m     page_py \u001b[38;5;241m=\u001b[39m wiki_wiki\u001b[38;5;241m.\u001b[39mpage(key)\n",
      "File \u001b[0;32m~/.python/current/lib/python3.10/site-packages/wikipediaapi/__init__.py:1059\u001b[0m, in \u001b[0;36mWikipediaPage.categorymembers\u001b[0;34m(self)\u001b[0m\n\u001b[1;32m   1048\u001b[0m \u001b[38;5;250m\u001b[39m\u001b[38;5;124;03m\"\"\"\u001b[39;00m\n\u001b[1;32m   1049\u001b[0m \u001b[38;5;124;03mReturns all pages belonging to the current category.\u001b[39;00m\n\u001b[1;32m   1050\u001b[0m \n\u001b[0;32m   (...)\u001b[0m\n\u001b[1;32m   1056\u001b[0m \u001b[38;5;124;03m:return: :class:`PagesDict`\u001b[39;00m\n\u001b[1;32m   1057\u001b[0m \u001b[38;5;124;03m\"\"\"\u001b[39;00m\n\u001b[1;32m   1058\u001b[0m \u001b[38;5;28;01mif\u001b[39;00m \u001b[38;5;129;01mnot\u001b[39;00m \u001b[38;5;28mself\u001b[39m\u001b[38;5;241m.\u001b[39m_called[\u001b[38;5;124m\"\u001b[39m\u001b[38;5;124mcategorymembers\u001b[39m\u001b[38;5;124m\"\u001b[39m]:\n\u001b[0;32m-> 1059\u001b[0m     \u001b[38;5;28;43mself\u001b[39;49m\u001b[38;5;241;43m.\u001b[39;49m\u001b[43m_fetch\u001b[49m\u001b[43m(\u001b[49m\u001b[38;5;124;43m\"\u001b[39;49m\u001b[38;5;124;43mcategorymembers\u001b[39;49m\u001b[38;5;124;43m\"\u001b[39;49m\u001b[43m)\u001b[49m\n\u001b[1;32m   1060\u001b[0m \u001b[38;5;28;01mreturn\u001b[39;00m \u001b[38;5;28mself\u001b[39m\u001b[38;5;241m.\u001b[39m_categorymembers\n",
      "File \u001b[0;32m~/.python/current/lib/python3.10/site-packages/wikipediaapi/__init__.py:1064\u001b[0m, in \u001b[0;36mWikipediaPage._fetch\u001b[0;34m(self, call)\u001b[0m\n\u001b[1;32m   1062\u001b[0m \u001b[38;5;28;01mdef\u001b[39;00m \u001b[38;5;21m_fetch\u001b[39m(\u001b[38;5;28mself\u001b[39m, call) \u001b[38;5;241m-\u001b[39m\u001b[38;5;241m>\u001b[39m \u001b[38;5;124m\"\u001b[39m\u001b[38;5;124mWikipediaPage\u001b[39m\u001b[38;5;124m\"\u001b[39m:\n\u001b[1;32m   1063\u001b[0m \u001b[38;5;250m    \u001b[39m\u001b[38;5;124;03m\"\"\"Fetches some data?.\"\"\"\u001b[39;00m\n\u001b[0;32m-> 1064\u001b[0m     \u001b[38;5;28;43mgetattr\u001b[39;49m\u001b[43m(\u001b[49m\u001b[38;5;28;43mself\u001b[39;49m\u001b[38;5;241;43m.\u001b[39;49m\u001b[43mwiki\u001b[49m\u001b[43m,\u001b[49m\u001b[43m \u001b[49m\u001b[43mcall\u001b[49m\u001b[43m)\u001b[49m\u001b[43m(\u001b[49m\u001b[38;5;28;43mself\u001b[39;49m\u001b[43m)\u001b[49m\n\u001b[1;32m   1065\u001b[0m     \u001b[38;5;28mself\u001b[39m\u001b[38;5;241m.\u001b[39m_called[call] \u001b[38;5;241m=\u001b[39m \u001b[38;5;28;01mTrue\u001b[39;00m\n\u001b[1;32m   1066\u001b[0m     \u001b[38;5;28;01mreturn\u001b[39;00m \u001b[38;5;28mself\u001b[39m\n",
      "File \u001b[0;32m~/.python/current/lib/python3.10/site-packages/wikipediaapi/__init__.py:510\u001b[0m, in \u001b[0;36mWikipedia.categorymembers\u001b[0;34m(self, page, **kwargs)\u001b[0m\n\u001b[1;32m    506\u001b[0m used_params\u001b[38;5;241m.\u001b[39mupdate(params)\n\u001b[1;32m    508\u001b[0m raw \u001b[38;5;241m=\u001b[39m \u001b[38;5;28mself\u001b[39m\u001b[38;5;241m.\u001b[39m_query(page, used_params)\n\u001b[0;32m--> 510\u001b[0m \u001b[38;5;28mself\u001b[39m\u001b[38;5;241m.\u001b[39m_common_attributes(\u001b[43mraw\u001b[49m\u001b[43m[\u001b[49m\u001b[38;5;124;43m\"\u001b[39;49m\u001b[38;5;124;43mquery\u001b[39;49m\u001b[38;5;124;43m\"\u001b[39;49m\u001b[43m]\u001b[49m, page)\n\u001b[1;32m    511\u001b[0m v \u001b[38;5;241m=\u001b[39m raw[\u001b[38;5;124m\"\u001b[39m\u001b[38;5;124mquery\u001b[39m\u001b[38;5;124m\"\u001b[39m]\n\u001b[1;32m    512\u001b[0m \u001b[38;5;28;01mwhile\u001b[39;00m \u001b[38;5;124m\"\u001b[39m\u001b[38;5;124mcontinue\u001b[39m\u001b[38;5;124m\"\u001b[39m \u001b[38;5;129;01min\u001b[39;00m raw:\n",
      "\u001b[0;31mKeyError\u001b[0m: 'query'"
     ]
    }
   ],
   "source": [
    "data = []\n",
    "pages_names = cat_Authoritarianism.categorymembers\n",
    "for key, value in islice (pages_names.items(), 1, None):\n",
    "    page_py = wiki_wiki.page(key)\n",
    "    data.append(\n",
    "        {\n",
    "            'Category': cat_Authoritarianism,\n",
    "            'Namespace': page_py.ns,\n",
    "            'Title': page_py.title,\n",
    "            'Summary': page_py.summary,\n",
    "            'Content': page_py.sections\n",
    "        }\n",
    "    )\n",
    "\n",
    "    df = pd.DataFrame(data)\n",
    "\n",
    "data = []\n",
    "pages_names = cat_Environmentalism.categorymembers\n",
    "for key, value in islice (pages_names.items(), 1, None):\n",
    "    page_py = wiki_wiki.page(key)\n",
    "    data.append(\n",
    "        {\n",
    "            'Category': cat_Environmentalism,\n",
    "            'Namespace': page_py.ns,\n",
    "            'Title': page_py.title,\n",
    "            'Summary': page_py.summary,\n",
    "            'Content': page_py.sections\n",
    "        }\n",
    "    )\n",
    "\n",
    "    df = pd.DataFrame(data)\n",
    "\n",
    "data = []\n",
    "pages_names = cat_Liberalism.categorymembers\n",
    "for key, value in islice (pages_names.items(), 1, None):\n",
    "    page_py = wiki_wiki.page(key)\n",
    "    data.append(\n",
    "        {\n",
    "            'Category': cat_Liberalism,\n",
    "            'Namespace': page_py.ns,\n",
    "            'Title': page_py.title,\n",
    "            'Summary': page_py.summary,\n",
    "            'Content': page_py.sections\n",
    "        }\n",
    "    )\n",
    "\n",
    "    df = pd.DataFrame(data)\n"
   ]
  },
  {
   "cell_type": "code",
   "execution_count": 23,
   "metadata": {},
   "outputs": [],
   "source": [
    "df.to_csv('Ideologias.csv')"
   ]
  },
  {
   "cell_type": "code",
   "execution_count": 26,
   "metadata": {},
   "outputs": [
    {
     "data": {
      "text/plain": [
       "Category:History by location (id: 18985014, ns: 14)    8\n",
       "Name: Category, dtype: int64"
      ]
     },
     "execution_count": 26,
     "metadata": {},
     "output_type": "execute_result"
    }
   ],
   "source": [
    "\n",
    "columns = ['Category', 'Namespace', 'Title', 'Summary', 'Content']\n",
    "wiki_df = pd.read_csv(\"Ideologias.csv\")\n",
    "wiki_df.dropna(subset = ['Title', 'Summary'], inplace=True)\n",
    "wiki_df =wiki_df.query('Namespace < 1')\n",
    "wiki_df['Category'].value_counts()"
   ]
  }
 ],
 "metadata": {
  "kernelspec": {
   "display_name": "Python 3",
   "language": "python",
   "name": "python3"
  },
  "language_info": {
   "codemirror_mode": {
    "name": "ipython",
    "version": 3
   },
   "file_extension": ".py",
   "mimetype": "text/x-python",
   "name": "python",
   "nbconvert_exporter": "python",
   "pygments_lexer": "ipython3",
   "version": "3.10.13"
  }
 },
 "nbformat": 4,
 "nbformat_minor": 2
}
